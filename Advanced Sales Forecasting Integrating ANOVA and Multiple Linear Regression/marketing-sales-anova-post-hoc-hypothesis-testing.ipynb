{
 "cells": [
  {
   "cell_type": "markdown",
   "id": "3fd9b76f",
   "metadata": {
    "id": "2faf7b57-5c13-45e5-b666-d575eff0d17c",
    "papermill": {
     "duration": 0.012979,
     "end_time": "2024-07-26T09:30:58.151967",
     "exception": false,
     "start_time": "2024-07-26T09:30:58.138988",
     "status": "completed"
    },
    "tags": []
   },
   "source": [
    "## **Introduction**\n"
   ]
  },
  {
   "cell_type": "markdown",
   "id": "0c9996e0",
   "metadata": {
    "id": "2ca9aca5-33e0-4aa7-acdb-05832b05e5a9",
    "papermill": {
     "duration": 0.012079,
     "end_time": "2024-07-26T09:30:58.176622",
     "exception": false,
     "start_time": "2024-07-26T09:30:58.164543",
     "status": "completed"
    },
    "tags": []
   },
   "source": [
    "Analysis of variance (commonly called ANOVA) is a group of statistical techniques that test the difference of means among three or more groups.\n",
    "We will use the data to run a one-way ANOVA and a post hoc ANOVA test."
   ]
  },
  {
   "cell_type": "markdown",
   "id": "957849a5",
   "metadata": {
    "id": "bfcf5ec2-e48b-4443-9bf6-72670bd60041",
    "papermill": {
     "duration": 0.012144,
     "end_time": "2024-07-26T09:30:58.201078",
     "exception": false,
     "start_time": "2024-07-26T09:30:58.188934",
     "status": "completed"
    },
    "tags": []
   },
   "source": [
    "## **Step 1: Imports** \n"
   ]
  },
  {
   "cell_type": "markdown",
   "id": "d5eb2ab1",
   "metadata": {
    "id": "7dcaa8a0-4fe8-4816-9ef5-5fc665a4638f",
    "papermill": {
     "duration": 0.012207,
     "end_time": "2024-07-26T09:30:58.226191",
     "exception": false,
     "start_time": "2024-07-26T09:30:58.213984",
     "status": "completed"
    },
    "tags": []
   },
   "source": [
    "Import pandas, pyplot from matplotlib, seaborn, api from statsmodels, ols from statsmodels.formula.api, and pairwise_tukeyhsd from statsmodels.stats.multicomp."
   ]
  },
  {
   "cell_type": "code",
   "execution_count": 1,
   "id": "b1f6f7c1",
   "metadata": {
    "execution": {
     "iopub.execute_input": "2024-07-26T09:30:58.254753Z",
     "iopub.status.busy": "2024-07-26T09:30:58.253915Z",
     "iopub.status.idle": "2024-07-26T09:31:02.835271Z",
     "shell.execute_reply": "2024-07-26T09:31:02.833916Z"
    },
    "id": "b2f4b9fa-b7bd-4b88-8c71-d3af5ddcb906",
    "papermill": {
     "duration": 4.598705,
     "end_time": "2024-07-26T09:31:02.838348",
     "exception": false,
     "start_time": "2024-07-26T09:30:58.239643",
     "status": "completed"
    },
    "tags": []
   },
   "outputs": [],
   "source": [
    "# Import libraries and packages.\n",
    "\n",
    "import pandas as pd\n",
    "from matplotlib import pyplot as plt\n",
    "import seaborn as sns\n",
    "import statsmodels.api as sm\n",
    "from statsmodels.formula.api import ols\n",
    "from statsmodels.stats.multicomp import pairwise_tukeyhsd"
   ]
  },
  {
   "cell_type": "code",
   "execution_count": 2,
   "id": "b333aea7",
   "metadata": {
    "execution": {
     "iopub.execute_input": "2024-07-26T09:31:02.866139Z",
     "iopub.status.busy": "2024-07-26T09:31:02.865538Z",
     "iopub.status.idle": "2024-07-26T09:31:02.918448Z",
     "shell.execute_reply": "2024-07-26T09:31:02.916992Z"
    },
    "id": "32d46d82-2bd6-4433-b56e-cfa5542949ca",
    "papermill": {
     "duration": 0.069816,
     "end_time": "2024-07-26T09:31:02.921356",
     "exception": false,
     "start_time": "2024-07-26T09:31:02.851540",
     "status": "completed"
    },
    "tags": []
   },
   "outputs": [
    {
     "data": {
      "text/html": [
       "<div>\n",
       "<style scoped>\n",
       "    .dataframe tbody tr th:only-of-type {\n",
       "        vertical-align: middle;\n",
       "    }\n",
       "\n",
       "    .dataframe tbody tr th {\n",
       "        vertical-align: top;\n",
       "    }\n",
       "\n",
       "    .dataframe thead th {\n",
       "        text-align: right;\n",
       "    }\n",
       "</style>\n",
       "<table border=\"1\" class=\"dataframe\">\n",
       "  <thead>\n",
       "    <tr style=\"text-align: right;\">\n",
       "      <th></th>\n",
       "      <th>TV</th>\n",
       "      <th>Radio</th>\n",
       "      <th>Social Media</th>\n",
       "      <th>Influencer</th>\n",
       "      <th>Sales</th>\n",
       "    </tr>\n",
       "  </thead>\n",
       "  <tbody>\n",
       "    <tr>\n",
       "      <th>0</th>\n",
       "      <td>Low</td>\n",
       "      <td>3.518070</td>\n",
       "      <td>2.293790</td>\n",
       "      <td>Micro</td>\n",
       "      <td>55.261284</td>\n",
       "    </tr>\n",
       "    <tr>\n",
       "      <th>1</th>\n",
       "      <td>Low</td>\n",
       "      <td>7.756876</td>\n",
       "      <td>2.572287</td>\n",
       "      <td>Mega</td>\n",
       "      <td>67.574904</td>\n",
       "    </tr>\n",
       "    <tr>\n",
       "      <th>2</th>\n",
       "      <td>High</td>\n",
       "      <td>20.348988</td>\n",
       "      <td>1.227180</td>\n",
       "      <td>Micro</td>\n",
       "      <td>272.250108</td>\n",
       "    </tr>\n",
       "    <tr>\n",
       "      <th>3</th>\n",
       "      <td>Medium</td>\n",
       "      <td>20.108487</td>\n",
       "      <td>2.728374</td>\n",
       "      <td>Mega</td>\n",
       "      <td>195.102176</td>\n",
       "    </tr>\n",
       "    <tr>\n",
       "      <th>4</th>\n",
       "      <td>High</td>\n",
       "      <td>31.653200</td>\n",
       "      <td>7.776978</td>\n",
       "      <td>Nano</td>\n",
       "      <td>273.960377</td>\n",
       "    </tr>\n",
       "  </tbody>\n",
       "</table>\n",
       "</div>"
      ],
      "text/plain": [
       "       TV      Radio  Social Media Influencer       Sales\n",
       "0     Low   3.518070      2.293790      Micro   55.261284\n",
       "1     Low   7.756876      2.572287       Mega   67.574904\n",
       "2    High  20.348988      1.227180      Micro  272.250108\n",
       "3  Medium  20.108487      2.728374       Mega  195.102176\n",
       "4    High  31.653200      7.776978       Nano  273.960377"
      ]
     },
     "execution_count": 2,
     "metadata": {},
     "output_type": "execute_result"
    }
   ],
   "source": [
    "data = pd.read_csv('/kaggle/input/marketing-promotion/marketing_sales_data.csv')\n",
    "\n",
    "# Display the first five rows.\n",
    "data.head()\n"
   ]
  },
  {
   "cell_type": "markdown",
   "id": "7d872030",
   "metadata": {
    "id": "c179e85f-20df-4840-ad29-de35b928dff6",
    "papermill": {
     "duration": 0.014857,
     "end_time": "2024-07-26T09:31:02.949081",
     "exception": false,
     "start_time": "2024-07-26T09:31:02.934224",
     "status": "completed"
    },
    "tags": []
   },
   "source": [
    "The features in the data are:\n",
    "* TV promotion budget (in Low, Medium, and High categories)\n",
    "* Radio promotion budget (in millions of dollars)\n",
    "* Social media promotion budget (in millions of dollars)\n",
    "* Influencer size (in Mega, Macro, Nano, and Micro categories)\n",
    "* Sales (in millions of dollars)"
   ]
  },
  {
   "cell_type": "code",
   "execution_count": 3,
   "id": "100c63f5",
   "metadata": {
    "execution": {
     "iopub.execute_input": "2024-07-26T09:31:02.976618Z",
     "iopub.status.busy": "2024-07-26T09:31:02.976181Z",
     "iopub.status.idle": "2024-07-26T09:31:02.984135Z",
     "shell.execute_reply": "2024-07-26T09:31:02.982884Z"
    },
    "papermill": {
     "duration": 0.024821,
     "end_time": "2024-07-26T09:31:02.986749",
     "exception": false,
     "start_time": "2024-07-26T09:31:02.961928",
     "status": "completed"
    },
    "tags": []
   },
   "outputs": [
    {
     "data": {
      "text/plain": [
       "(572, 5)"
      ]
     },
     "execution_count": 3,
     "metadata": {},
     "output_type": "execute_result"
    }
   ],
   "source": [
    "data.shape"
   ]
  },
  {
   "cell_type": "markdown",
   "id": "aa062da5",
   "metadata": {
    "id": "fd47ede7-63ff-4fe5-aeb0-b8f909e9ecbe",
    "papermill": {
     "duration": 0.012899,
     "end_time": "2024-07-26T09:31:03.012792",
     "exception": false,
     "start_time": "2024-07-26T09:31:02.999893",
     "status": "completed"
    },
    "tags": []
   },
   "source": [
    "## **Step 2: Data exploration** \n"
   ]
  },
  {
   "cell_type": "markdown",
   "id": "82b2e066",
   "metadata": {
    "id": "b9669d71-a6b3-491b-b115-0c766625fc3d",
    "papermill": {
     "duration": 0.012533,
     "end_time": "2024-07-26T09:31:03.038429",
     "exception": false,
     "start_time": "2024-07-26T09:31:03.025896",
     "status": "completed"
    },
    "tags": []
   },
   "source": [
    "We'll use a boxplot to determine how `Sales` vary based on the `TV` promotion budget category."
   ]
  },
  {
   "cell_type": "code",
   "execution_count": 4,
   "id": "5fef7640",
   "metadata": {
    "execution": {
     "iopub.execute_input": "2024-07-26T09:31:03.066486Z",
     "iopub.status.busy": "2024-07-26T09:31:03.066044Z",
     "iopub.status.idle": "2024-07-26T09:31:03.399009Z",
     "shell.execute_reply": "2024-07-26T09:31:03.397772Z"
    },
    "id": "518254a6-44d5-45bf-9b57-13ce3a4deab3",
    "papermill": {
     "duration": 0.350348,
     "end_time": "2024-07-26T09:31:03.401886",
     "exception": false,
     "start_time": "2024-07-26T09:31:03.051538",
     "status": "completed"
    },
    "tags": []
   },
   "outputs": [
    {
     "data": {
      "text/plain": [
       "<Axes: xlabel='TV', ylabel='Sales'>"
      ]
     },
     "execution_count": 4,
     "metadata": {},
     "output_type": "execute_result"
    },
    {
     "data": {
      "image/png": "[encoded data removed]",
      "text/plain": [
       "<Figure size 640x480 with 1 Axes>"
      ]
     },
     "metadata": {},
     "output_type": "display_data"
    }
   ],
   "source": [
    "# Create a boxplot with TV and Sales.\n",
    "\n",
    "sns.boxplot(x='TV', y=\"Sales\", data = data)"
   ]
  },
  {
   "cell_type": "markdown",
   "id": "6738ee74",
   "metadata": {
    "id": "81f3c2fa-d98e-491d-be5b-f7d07845e490",
    "papermill": {
     "duration": 0.014713,
     "end_time": "2024-07-26T09:31:03.430389",
     "exception": false,
     "start_time": "2024-07-26T09:31:03.415676",
     "status": "completed"
    },
    "tags": []
   },
   "source": [
    "There is considerable variation in Sales across the TV groups. The significance of these differences can be tested with a one-way ANOVA."
   ]
  },
  {
   "cell_type": "markdown",
   "id": "c0cdc4f4",
   "metadata": {
    "id": "f3100abe-32db-4a56-b831-18eb0857b2d7",
    "papermill": {
     "duration": 0.013078,
     "end_time": "2024-07-26T09:31:03.457456",
     "exception": false,
     "start_time": "2024-07-26T09:31:03.444378",
     "status": "completed"
    },
    "tags": []
   },
   "source": [
    "Now, use a boxplot to determine how `Sales` vary based on the `Influencer` size category."
   ]
  },
  {
   "cell_type": "code",
   "execution_count": 5,
   "id": "31e70297",
   "metadata": {
    "execution": {
     "iopub.execute_input": "2024-07-26T09:31:03.486169Z",
     "iopub.status.busy": "2024-07-26T09:31:03.485728Z",
     "iopub.status.idle": "2024-07-26T09:31:03.732986Z",
     "shell.execute_reply": "2024-07-26T09:31:03.731748Z"
    },
    "id": "fafbc9e4-de0b-4892-a863-add240208344",
    "papermill": {
     "duration": 0.26613,
     "end_time": "2024-07-26T09:31:03.737026",
     "exception": false,
     "start_time": "2024-07-26T09:31:03.470896",
     "status": "completed"
    },
    "tags": []
   },
   "outputs": [
    {
     "data": {
      "text/plain": [
       "<Axes: xlabel='Influencer', ylabel='Sales'>"
      ]
     },
     "execution_count": 5,
     "metadata": {},
     "output_type": "execute_result"
    },
    {
     "data": {
      "image/png": "[encoded data removed]",
      "text/plain": [
       "<Figure size 640x480 with 1 Axes>"
      ]
     },
     "metadata": {},
     "output_type": "display_data"
    }
   ],
   "source": [
    "# Create a boxplot with Influencer and Sales.\n",
    "\n",
    "sns.boxplot(x=\"Influencer\", y=\"Sales\",  data = data)"
   ]
  },
  {
   "cell_type": "markdown",
   "id": "a9b6482c",
   "metadata": {
    "id": "b665e78d-7255-43de-b915-a78d6bbb87ce",
    "papermill": {
     "duration": 0.020235,
     "end_time": "2024-07-26T09:31:03.776824",
     "exception": false,
     "start_time": "2024-07-26T09:31:03.756589",
     "status": "completed"
    },
    "tags": []
   },
   "source": [
    "here is some variation in Sales across the Influencer groups, but it may not be significant."
   ]
  },
  {
   "cell_type": "markdown",
   "id": "3c04a287",
   "metadata": {
    "id": "0f4adbee-9d13-400a-99e6-6d4c482b8e17",
    "papermill": {
     "duration": 0.016064,
     "end_time": "2024-07-26T09:31:03.809759",
     "exception": false,
     "start_time": "2024-07-26T09:31:03.793695",
     "status": "completed"
    },
    "tags": []
   },
   "source": [
    "### Remove missing data"
   ]
  },
  {
   "cell_type": "code",
   "execution_count": 6,
   "id": "fb678fcf",
   "metadata": {
    "execution": {
     "iopub.execute_input": "2024-07-26T09:31:03.840346Z",
     "iopub.status.busy": "2024-07-26T09:31:03.839896Z",
     "iopub.status.idle": "2024-07-26T09:31:03.854142Z",
     "shell.execute_reply": "2024-07-26T09:31:03.852616Z"
    },
    "id": "498e546b-e90e-4b84-a7d7-12b3bb514c1d",
    "papermill": {
     "duration": 0.034521,
     "end_time": "2024-07-26T09:31:03.858473",
     "exception": false,
     "start_time": "2024-07-26T09:31:03.823952",
     "status": "completed"
    },
    "tags": []
   },
   "outputs": [
    {
     "data": {
      "text/plain": [
       "TV              0\n",
       "Radio           0\n",
       "Social Media    0\n",
       "Influencer      0\n",
       "Sales           0\n",
       "dtype: int64"
      ]
     },
     "execution_count": 6,
     "metadata": {},
     "output_type": "execute_result"
    }
   ],
   "source": [
    "# Drop rows that contain missing data and update the DataFrame.\n",
    "\n",
    "data.shape\n",
    "data = data.dropna(axis=0)\n",
    "data.shape\n",
    "\n",
    "# Confirm the data contains no missing values.\n",
    "\n",
    "data.isnull().sum(axis=0)"
   ]
  },
  {
   "cell_type": "markdown",
   "id": "f7e6bcb5",
   "metadata": {
    "id": "888c90fa-d800-43e4-a692-9fdd576c9b9c",
    "papermill": {
     "duration": 0.020978,
     "end_time": "2024-07-26T09:31:03.900487",
     "exception": false,
     "start_time": "2024-07-26T09:31:03.879509",
     "status": "completed"
    },
    "tags": []
   },
   "source": [
    "## **Step 3: Model building** \n"
   ]
  },
  {
   "cell_type": "markdown",
   "id": "59b778cb",
   "metadata": {
    "id": "9c906193-db62-4af0-83fa-dffafc347554",
    "papermill": {
     "duration": 0.017983,
     "end_time": "2024-07-26T09:31:03.936434",
     "exception": false,
     "start_time": "2024-07-26T09:31:03.918451",
     "status": "completed"
    },
    "tags": []
   },
   "source": [
    "Fit a linear regression model that predicts `Sales` using one of the independent categorical variables in `data`."
   ]
  },
  {
   "cell_type": "code",
   "execution_count": 7,
   "id": "7f2a0707",
   "metadata": {
    "execution": {
     "iopub.execute_input": "2024-07-26T09:31:03.969918Z",
     "iopub.status.busy": "2024-07-26T09:31:03.969433Z",
     "iopub.status.idle": "2024-07-26T09:31:04.019617Z",
     "shell.execute_reply": "2024-07-26T09:31:04.018397Z"
    },
    "id": "76f99341-1ea0-4f1d-a2c7-54e56bd57e38",
    "papermill": {
     "duration": 0.069232,
     "end_time": "2024-07-26T09:31:04.022906",
     "exception": false,
     "start_time": "2024-07-26T09:31:03.953674",
     "status": "completed"
    },
    "tags": []
   },
   "outputs": [
    {
     "name": "stdout",
     "output_type": "stream",
     "text": [
      "                            OLS Regression Results                            \n",
      "==============================================================================\n",
      "Dep. Variable:                  Sales   R-squared:                       0.871\n",
      "Model:                            OLS   Adj. R-squared:                  0.870\n",
      "Method:                 Least Squares   F-statistic:                     1918.\n",
      "Date:                Fri, 26 Jul 2024   Prob (F-statistic):          1.38e-253\n",
      "Time:                        09:31:04   Log-Likelihood:                -2798.9\n",
      "No. Observations:                 572   AIC:                             5604.\n",
      "Df Residuals:                     569   BIC:                             5617.\n",
      "Df Model:                           2                                         \n",
      "Covariance Type:            nonrobust                                         \n",
      "===================================================================================\n",
      "                      coef    std err          t      P>|t|      [0.025      0.975]\n",
      "-----------------------------------------------------------------------------------\n",
      "Intercept         300.8532      2.512    119.789      0.000     295.920     305.786\n",
      "C(TV)[T.Low]     -209.8691      3.394    -61.841      0.000    -216.535    -203.203\n",
      "C(TV)[T.Medium]  -105.4952      3.379    -31.224      0.000    -112.131     -98.859\n",
      "==============================================================================\n",
      "Omnibus:                      547.584   Durbin-Watson:                   1.960\n",
      "Prob(Omnibus):                  0.000   Jarque-Bera (JB):               37.103\n",
      "Skew:                           0.015   Prob(JB):                     8.77e-09\n",
      "Kurtosis:                       1.753   Cond. No.                         3.97\n",
      "==============================================================================\n",
      "\n",
      "Notes:\n",
      "[1] Standard Errors assume that the covariance matrix of the errors is correctly specified.\n"
     ]
    }
   ],
   "source": [
    "# Define the OLS formula.\n",
    "\n",
    "ols_formula = 'Sales ~ C(TV)'\n",
    "\n",
    "\n",
    "# Create an OLS model.\n",
    "OLS = ols(formula=ols_formula, data=data )\n",
    "\n",
    "\n",
    "\n",
    "# Fit the model.\n",
    "model= OLS.fit()\n",
    "\n",
    "\n",
    "# Save the results summary.\n",
    "results = model.summary()\n",
    "\n",
    "# Display the model results.\n",
    "print(results)\n"
   ]
  },
  {
   "cell_type": "markdown",
   "id": "a1b21971",
   "metadata": {
    "id": "0e59dcd5-cb5b-4d24-a212-20123e48eb4c",
    "papermill": {
     "duration": 0.014308,
     "end_time": "2024-07-26T09:31:04.051634",
     "exception": false,
     "start_time": "2024-07-26T09:31:04.037326",
     "status": "completed"
    },
    "tags": []
   },
   "source": [
    "I will choose TV as it seemeed to have a relevant impact on sales."
   ]
  },
  {
   "cell_type": "markdown",
   "id": "b413ec14",
   "metadata": {
    "id": "b4987bee-40ae-4513-95c3-1bec1acdbba9",
    "papermill": {
     "duration": 0.020038,
     "end_time": "2024-07-26T09:31:04.086395",
     "exception": false,
     "start_time": "2024-07-26T09:31:04.066357",
     "status": "completed"
    },
    "tags": []
   },
   "source": [
    "### Check model assumptions"
   ]
  },
  {
   "cell_type": "markdown",
   "id": "81285843",
   "metadata": {
    "id": "6854af88-7d67-4214-a7df-c6405b46bb47",
    "papermill": {
     "duration": 0.016307,
     "end_time": "2024-07-26T09:31:04.119383",
     "exception": false,
     "start_time": "2024-07-26T09:31:04.103076",
     "status": "completed"
    },
    "tags": []
   },
   "source": [
    "Now, check the four linear regression assumptions are upheld for your model."
   ]
  },
  {
   "cell_type": "markdown",
   "id": "2fb0ea02",
   "metadata": {
    "id": "66de8f0b-fd6b-456f-add6-f893dc33d911",
    "papermill": {
     "duration": 0.014513,
     "end_time": "2024-07-26T09:31:04.149514",
     "exception": false,
     "start_time": "2024-07-26T09:31:04.135001",
     "status": "completed"
    },
    "tags": []
   },
   "source": [
    "1. Linearity assumption met?\n",
    "\n",
    "Becuase, my model does not have any contd./discrete independent variable, thus, no need to check for linearity."
   ]
  },
  {
   "cell_type": "markdown",
   "id": "7681ff63",
   "metadata": {
    "id": "feeb314a-bbbe-4e9a-8561-2f8af0cd172e",
    "papermill": {
     "duration": 0.016282,
     "end_time": "2024-07-26T09:31:04.180913",
     "exception": false,
     "start_time": "2024-07-26T09:31:04.164631",
     "status": "completed"
    },
    "tags": []
   },
   "source": [
    "2. Independent Observations \n",
    "\n",
    "The independent observation assumption states that each observation in the dataset is independent. As each marketing promotion (row) is independent from one another, the independence assumption is not violated."
   ]
  },
  {
   "cell_type": "markdown",
   "id": "de151167",
   "metadata": {
    "id": "bcccf5c8-3325-4b1e-b491-f151bea5ab1c",
    "papermill": {
     "duration": 0.014168,
     "end_time": "2024-07-26T09:31:04.211096",
     "exception": false,
     "start_time": "2024-07-26T09:31:04.196928",
     "status": "completed"
    },
    "tags": []
   },
   "source": [
    "3.  Next, verify that the normality assumption is upheld for the model."
   ]
  },
  {
   "cell_type": "code",
   "execution_count": 8,
   "id": "77bde6bf",
   "metadata": {
    "execution": {
     "iopub.execute_input": "2024-07-26T09:31:04.241800Z",
     "iopub.status.busy": "2024-07-26T09:31:04.241383Z",
     "iopub.status.idle": "2024-07-26T09:31:05.039758Z",
     "shell.execute_reply": "2024-07-26T09:31:05.038307Z"
    },
    "id": "cce8f99b-33e2-4723-9266-4f009e7a15dd",
    "papermill": {
     "duration": 0.817007,
     "end_time": "2024-07-26T09:31:05.042623",
     "exception": false,
     "start_time": "2024-07-26T09:31:04.225616",
     "status": "completed"
    },
    "tags": []
   },
   "outputs": [
    {
     "name": "stderr",
     "output_type": "stream",
     "text": [
      "/opt/conda/lib/python3.10/site-packages/seaborn/_oldcore.py:1119: FutureWarning: use_inf_as_na option is deprecated and will be removed in a future version. Convert inf values to NaN before operating instead.\n",
      "  with pd.option_context('mode.use_inf_as_na', True):\n"
     ]
    },
    {
     "data": {
      "image/png": "[encoded data removed]",
      "text/plain": [
       "<Figure size 800x400 with 2 Axes>"
      ]
     },
     "execution_count": 8,
     "metadata": {},
     "output_type": "execute_result"
    },
    {
     "data": {
      "image/png": "[encoded data removed]",
      "text/plain": [
       "<Figure size 800x400 with 2 Axes>"
      ]
     },
     "metadata": {},
     "output_type": "display_data"
    }
   ],
   "source": [
    "# Calculate the residuals.\n",
    "residuals = model.resid\n",
    "\n",
    "fig, axes = plt.subplots(1,2,figsize=(8,4))\n",
    "\n",
    "# Create a histogram with the residuals. \n",
    "sns.histplot( residuals, ax = axes[0])\n",
    "\n",
    "\n",
    "# Create a QQ plot of the residuals.\n",
    "sm.qqplot(residuals, line='s', ax=axes[1])\n",
    "\n"
   ]
  },
  {
   "cell_type": "markdown",
   "id": "cb24dde4",
   "metadata": {
    "id": "fc232449-b3ea-4cb6-992d-cd129ef43cc9",
    "papermill": {
     "duration": 0.015773,
     "end_time": "2024-07-26T09:31:05.074493",
     "exception": false,
     "start_time": "2024-07-26T09:31:05.058720",
     "status": "completed"
    },
    "tags": []
   },
   "source": [
    "[Write your response here. Double-click (or enter) to edit.]\n",
    "Is the normality assumption met?\n",
    "\n",
    "Residuals are not meeting the normal distribution.\n",
    "The qq plot is also deviating from the red line, which is not a desired bahaviour.\n",
    "We'll still continue just to check what results are we getting."
   ]
  },
  {
   "cell_type": "markdown",
   "id": "cc5a1336",
   "metadata": {
    "id": "be83ac10-d1d0-4b94-88de-5de424528547",
    "papermill": {
     "duration": 0.015589,
     "end_time": "2024-07-26T09:31:05.106500",
     "exception": false,
     "start_time": "2024-07-26T09:31:05.090911",
     "status": "completed"
    },
    "tags": []
   },
   "source": [
    "4.  Now, verify the constant variance (homoscedasticity) assumption is met for this model."
   ]
  },
  {
   "cell_type": "code",
   "execution_count": 9,
   "id": "a1ca0d48",
   "metadata": {
    "execution": {
     "iopub.execute_input": "2024-07-26T09:31:05.141220Z",
     "iopub.status.busy": "2024-07-26T09:31:05.140802Z",
     "iopub.status.idle": "2024-07-26T09:31:05.487670Z",
     "shell.execute_reply": "2024-07-26T09:31:05.486287Z"
    },
    "id": "efcd0325-b3a0-42d1-ad57-38f10800c35e",
    "papermill": {
     "duration": 0.366678,
     "end_time": "2024-07-26T09:31:05.490361",
     "exception": false,
     "start_time": "2024-07-26T09:31:05.123683",
     "status": "completed"
    },
    "tags": []
   },
   "outputs": [
    {
     "data": {
      "image/png": "[encoded data removed]",
      "text/plain": [
       "<Figure size 640x480 with 1 Axes>"
      ]
     },
     "metadata": {},
     "output_type": "display_data"
    }
   ],
   "source": [
    "# Create a scatter plot with the fitted values from the model and the residuals.\n",
    "\n",
    "fitted_Values = model.fittedvalues\n",
    "\n",
    "fig = sns.scatterplot(x=fitted_Values, y=residuals)\n",
    "fig.set_title(\"Fitted values vs residuals\")\n",
    "fig.set_xlabel(\"Fitted values\")\n",
    "fig.set_ylabel(\"Residuals\")\n",
    "\n",
    "# Add a line at y = 0 to visualize the variance of residuals above and below 0.\n",
    "fig.axhline(0)\n",
    "\n",
    "plt.show()\n"
   ]
  },
  {
   "cell_type": "markdown",
   "id": "8e57947b",
   "metadata": {
    "id": "8318f726-369c-446a-acad-85117e43459b",
    "papermill": {
     "duration": 0.016637,
     "end_time": "2024-07-26T09:31:05.524199",
     "exception": false,
     "start_time": "2024-07-26T09:31:05.507562",
     "status": "completed"
    },
    "tags": []
   },
   "source": [
    "**Question:** Is the constant variance (homoscedasticity) assumption met?\n",
    "Yes, homoscedasticity is met."
   ]
  },
  {
   "cell_type": "markdown",
   "id": "ec044b52",
   "metadata": {
    "id": "84373d80-2129-4124-85fa-85871671004b",
    "papermill": {
     "duration": 0.016628,
     "end_time": "2024-07-26T09:31:05.557986",
     "exception": false,
     "start_time": "2024-07-26T09:31:05.541358",
     "status": "completed"
    },
    "tags": []
   },
   "source": [
    "## **Step 4: Results and evaluation** "
   ]
  },
  {
   "cell_type": "markdown",
   "id": "4b7ec274",
   "metadata": {
    "id": "30f5a3e8-a446-4a64-a0cb-4a512a367111",
    "papermill": {
     "duration": 0.016367,
     "end_time": "2024-07-26T09:31:05.590958",
     "exception": false,
     "start_time": "2024-07-26T09:31:05.574591",
     "status": "completed"
    },
    "tags": []
   },
   "source": [
    "First, display the OLS regression results."
   ]
  },
  {
   "cell_type": "code",
   "execution_count": 10,
   "id": "d7024e6f",
   "metadata": {
    "execution": {
     "iopub.execute_input": "2024-07-26T09:31:05.625847Z",
     "iopub.status.busy": "2024-07-26T09:31:05.625405Z",
     "iopub.status.idle": "2024-07-26T09:31:05.634088Z",
     "shell.execute_reply": "2024-07-26T09:31:05.632887Z"
    },
    "id": "7d0bfc27-05f7-4cfa-9aa1-8e2110eabd69",
    "papermill": {
     "duration": 0.030278,
     "end_time": "2024-07-26T09:31:05.637644",
     "exception": false,
     "start_time": "2024-07-26T09:31:05.607366",
     "status": "completed"
    },
    "tags": []
   },
   "outputs": [
    {
     "name": "stdout",
     "output_type": "stream",
     "text": [
      "                            OLS Regression Results                            \n",
      "==============================================================================\n",
      "Dep. Variable:                  Sales   R-squared:                       0.871\n",
      "Model:                            OLS   Adj. R-squared:                  0.870\n",
      "Method:                 Least Squares   F-statistic:                     1918.\n",
      "Date:                Fri, 26 Jul 2024   Prob (F-statistic):          1.38e-253\n",
      "Time:                        09:31:04   Log-Likelihood:                -2798.9\n",
      "No. Observations:                 572   AIC:                             5604.\n",
      "Df Residuals:                     569   BIC:                             5617.\n",
      "Df Model:                           2                                         \n",
      "Covariance Type:            nonrobust                                         \n",
      "===================================================================================\n",
      "                      coef    std err          t      P>|t|      [0.025      0.975]\n",
      "-----------------------------------------------------------------------------------\n",
      "Intercept         300.8532      2.512    119.789      0.000     295.920     305.786\n",
      "C(TV)[T.Low]     -209.8691      3.394    -61.841      0.000    -216.535    -203.203\n",
      "C(TV)[T.Medium]  -105.4952      3.379    -31.224      0.000    -112.131     -98.859\n",
      "==============================================================================\n",
      "Omnibus:                      547.584   Durbin-Watson:                   1.960\n",
      "Prob(Omnibus):                  0.000   Jarque-Bera (JB):               37.103\n",
      "Skew:                           0.015   Prob(JB):                     8.77e-09\n",
      "Kurtosis:                       1.753   Cond. No.                         3.97\n",
      "==============================================================================\n",
      "\n",
      "Notes:\n",
      "[1] Standard Errors assume that the covariance matrix of the errors is correctly specified.\n"
     ]
    }
   ],
   "source": [
    "# Display the model results summary.\n",
    "\n",
    "print(results)\n",
    "\n"
   ]
  },
  {
   "cell_type": "markdown",
   "id": "0bd3f0b5",
   "metadata": {
    "id": "97b169ad-b113-46e3-996a-53f268adbc6d",
    "papermill": {
     "duration": 0.081058,
     "end_time": "2024-07-26T09:31:05.735311",
     "exception": false,
     "start_time": "2024-07-26T09:31:05.654253",
     "status": "completed"
    },
    "tags": []
   },
   "source": [
    "### Perform a one-way ANOVA test\n",
    "\n",
    "Now with the fit model, we'll run a one-way ANOVA test to determine whether there is a statistically significant difference in `Sales` among groups. "
   ]
  },
  {
   "cell_type": "code",
   "execution_count": 11,
   "id": "8941f96e",
   "metadata": {
    "execution": {
     "iopub.execute_input": "2024-07-26T09:31:05.770531Z",
     "iopub.status.busy": "2024-07-26T09:31:05.770081Z",
     "iopub.status.idle": "2024-07-26T09:31:05.793839Z",
     "shell.execute_reply": "2024-07-26T09:31:05.792638Z"
    },
    "id": "aadfa800-a74c-4819-abb8-cda13ce16d96",
    "papermill": {
     "duration": 0.04453,
     "end_time": "2024-07-26T09:31:05.796469",
     "exception": false,
     "start_time": "2024-07-26T09:31:05.751939",
     "status": "completed"
    },
    "tags": []
   },
   "outputs": [
    {
     "data": {
      "text/html": [
       "<div>\n",
       "<style scoped>\n",
       "    .dataframe tbody tr th:only-of-type {\n",
       "        vertical-align: middle;\n",
       "    }\n",
       "\n",
       "    .dataframe tbody tr th {\n",
       "        vertical-align: top;\n",
       "    }\n",
       "\n",
       "    .dataframe thead th {\n",
       "        text-align: right;\n",
       "    }\n",
       "</style>\n",
       "<table border=\"1\" class=\"dataframe\">\n",
       "  <thead>\n",
       "    <tr style=\"text-align: right;\">\n",
       "      <th></th>\n",
       "      <th>sum_sq</th>\n",
       "      <th>df</th>\n",
       "      <th>F</th>\n",
       "      <th>PR(&gt;F)</th>\n",
       "    </tr>\n",
       "  </thead>\n",
       "  <tbody>\n",
       "    <tr>\n",
       "      <th>C(TV)</th>\n",
       "      <td>4.016116e+06</td>\n",
       "      <td>2.0</td>\n",
       "      <td>1917.749265</td>\n",
       "      <td>1.383230e-253</td>\n",
       "    </tr>\n",
       "    <tr>\n",
       "      <th>Residual</th>\n",
       "      <td>5.957948e+05</td>\n",
       "      <td>569.0</td>\n",
       "      <td>NaN</td>\n",
       "      <td>NaN</td>\n",
       "    </tr>\n",
       "  </tbody>\n",
       "</table>\n",
       "</div>"
      ],
      "text/plain": [
       "                sum_sq     df            F         PR(>F)\n",
       "C(TV)     4.016116e+06    2.0  1917.749265  1.383230e-253\n",
       "Residual  5.957948e+05  569.0          NaN            NaN"
      ]
     },
     "execution_count": 11,
     "metadata": {},
     "output_type": "execute_result"
    }
   ],
   "source": [
    "# Create an one-way ANOVA table for the fit model.\n",
    "\n",
    "\n",
    "sm.stats.anova_lm(model, typ=2)"
   ]
  },
  {
   "cell_type": "markdown",
   "id": "5d14e487",
   "metadata": {
    "id": "735c20e2-bd53-4e36-81bd-38ae78a4d4a8",
    "papermill": {
     "duration": 0.016675,
     "end_time": "2024-07-26T09:31:05.830404",
     "exception": false,
     "start_time": "2024-07-26T09:31:05.813729",
     "status": "completed"
    },
    "tags": []
   },
   "source": [
    "**Question:** What are the null and alternative hypotheses for the ANOVA test?"
   ]
  },
  {
   "cell_type": "markdown",
   "id": "99316b1f",
   "metadata": {
    "id": "4175c90c-a07b-4e62-b659-bc5b40aeadfb",
    "papermill": {
     "duration": 0.016792,
     "end_time": "2024-07-26T09:31:05.864418",
     "exception": false,
     "start_time": "2024-07-26T09:31:05.847626",
     "status": "completed"
    },
    "tags": []
   },
   "source": [
    "H0 : The mean of the sales across all groups of TV budget (Low, medium, high) is same.\n",
    "\n",
    "H1: The mean of the sales across all groups of TV budget(Low, medium, high) is different."
   ]
  },
  {
   "cell_type": "markdown",
   "id": "d4488df9",
   "metadata": {
    "id": "1f5807cb-aff6-4877-a70c-7dbffdb822e3",
    "papermill": {
     "duration": 0.016603,
     "end_time": "2024-07-26T09:31:05.898117",
     "exception": false,
     "start_time": "2024-07-26T09:31:05.881514",
     "status": "completed"
    },
    "tags": []
   },
   "source": [
    "**Question:** What is conclusion from the one-way ANOVA test?"
   ]
  },
  {
   "cell_type": "markdown",
   "id": "a77f5dfb",
   "metadata": {
    "id": "81f755b7-11b8-4508-8962-fb0721b13df8",
    "papermill": {
     "duration": 0.016492,
     "end_time": "2024-07-26T09:31:05.931507",
     "exception": false,
     "start_time": "2024-07-26T09:31:05.915015",
     "status": "completed"
    },
    "tags": []
   },
   "source": [
    "coz p-value is < 0.05, hence, our results are statistically significant and we can reject H0."
   ]
  },
  {
   "cell_type": "markdown",
   "id": "810f1d30",
   "metadata": {
    "id": "6e1d8561-3957-400b-89d1-4330ee923193",
    "papermill": {
     "duration": 0.01675,
     "end_time": "2024-07-26T09:31:05.965949",
     "exception": false,
     "start_time": "2024-07-26T09:31:05.949199",
     "status": "completed"
    },
    "tags": []
   },
   "source": [
    "**Question:** What did the ANOVA test tell?"
   ]
  },
  {
   "cell_type": "markdown",
   "id": "929a58ea",
   "metadata": {
    "id": "0206ac7d-fc6d-4505-aaf5-81ddce18001f",
    "papermill": {
     "duration": 0.016915,
     "end_time": "2024-07-26T09:31:06.000139",
     "exception": false,
     "start_time": "2024-07-26T09:31:05.983224",
     "status": "completed"
    },
    "tags": []
   },
   "source": [
    "That the groups of TV category variable, do impact the sales. and mean of sales with Low, medium and high budget of promotions on TV are not equal. They are different."
   ]
  },
  {
   "cell_type": "markdown",
   "id": "9b1909a0",
   "metadata": {
    "id": "532a2ba1-8e9a-4c8f-b432-dfeea0e62fc4",
    "papermill": {
     "duration": 0.016575,
     "end_time": "2024-07-26T09:31:06.033689",
     "exception": false,
     "start_time": "2024-07-26T09:31:06.017114",
     "status": "completed"
    },
    "tags": []
   },
   "source": [
    "### Perform an ANOVA post hoc test\n",
    "\n",
    "Once, we have significant results from the one-way ANOVA test, we can apply ANOVA post hoc tests such as the Tukey’s HSD post hoc test. \n",
    "\n",
    "Tukey’s HSD post hoc test is to compare if there is a significant difference between each pair of categories for TV."
   ]
  },
  {
   "cell_type": "markdown",
   "id": "91b16f71",
   "metadata": {
    "papermill": {
     "duration": 0.016846,
     "end_time": "2024-07-26T09:31:06.068135",
     "exception": false,
     "start_time": "2024-07-26T09:31:06.051289",
     "status": "completed"
    },
    "tags": []
   },
   "source": [
    "Now, with ANOVA, as we reject Ho, we know that means are not same. \n",
    "But which means are not same, which are different, that we will know with post-hoc test."
   ]
  },
  {
   "cell_type": "code",
   "execution_count": 12,
   "id": "88c4e98e",
   "metadata": {
    "execution": {
     "iopub.execute_input": "2024-07-26T09:31:06.104093Z",
     "iopub.status.busy": "2024-07-26T09:31:06.103633Z",
     "iopub.status.idle": "2024-07-26T09:31:06.433915Z",
     "shell.execute_reply": "2024-07-26T09:31:06.432632Z"
    },
    "id": "cce84e77-6269-4295-b961-8350a4b4920c",
    "papermill": {
     "duration": 0.351364,
     "end_time": "2024-07-26T09:31:06.436552",
     "exception": false,
     "start_time": "2024-07-26T09:31:06.085188",
     "status": "completed"
    },
    "tags": []
   },
   "outputs": [
    {
     "data": {
      "text/html": [
       "<table class=\"simpletable\">\n",
       "<caption>Multiple Comparison of Means - Tukey HSD, FWER=0.05</caption>\n",
       "<tr>\n",
       "  <th>group1</th> <th>group2</th> <th>meandiff</th>  <th>p-adj</th>   <th>lower</th>     <th>upper</th>   <th>reject</th>\n",
       "</tr>\n",
       "<tr>\n",
       "   <td>High</td>    <td>Low</td>  <td>-209.8691</td>  <td>0.0</td>  <td>-217.8438</td> <td>-201.8944</td>  <td>True</td> \n",
       "</tr>\n",
       "<tr>\n",
       "   <td>High</td>  <td>Medium</td> <td>-105.4952</td>  <td>0.0</td>  <td>-113.4346</td> <td>-97.5557</td>   <td>True</td> \n",
       "</tr>\n",
       "<tr>\n",
       "    <td>Low</td>  <td>Medium</td> <td>104.3739</td>   <td>0.0</td>   <td>96.8261</td>  <td>111.9218</td>   <td>True</td> \n",
       "</tr>\n",
       "</table>"
      ],
      "text/latex": [
       "\\begin{center}\n",
       "\\begin{tabular}{ccccccc}\n",
       "\\toprule\n",
       "\\textbf{group1} & \\textbf{group2} & \\textbf{meandiff} & \\textbf{p-adj} & \\textbf{lower} & \\textbf{upper} & \\textbf{reject}  \\\\\n",
       "\\midrule\n",
       "      High      &       Low       &     -209.8691     &      0.0       &   -217.8438    &   -201.8944    &       True       \\\\\n",
       "      High      &      Medium     &     -105.4952     &      0.0       &   -113.4346    &    -97.5557    &       True       \\\\\n",
       "      Low       &      Medium     &      104.3739     &      0.0       &    96.8261     &    111.9218    &       True       \\\\\n",
       "\\bottomrule\n",
       "\\end{tabular}\n",
       "%\\caption{Multiple Comparison of Means - Tukey HSD, FWER=0.05}\n",
       "\\end{center}"
      ],
      "text/plain": [
       "<class 'statsmodels.iolib.table.SimpleTable'>"
      ]
     },
     "execution_count": 12,
     "metadata": {},
     "output_type": "execute_result"
    }
   ],
   "source": [
    "# Perform the Tukey's HSD post hoc test.\n",
    "\n",
    "tukeyhsd_oneway = pairwise_tukeyhsd(endog = data[\"Sales\"], groups=data[\"TV\"])\n",
    "\n",
    "tukeyhsd_oneway.summary()"
   ]
  },
  {
   "cell_type": "markdown",
   "id": "4f5f621e",
   "metadata": {
    "id": "797099aa-a787-46a9-9ea1-ab125ff7ae27",
    "papermill": {
     "duration": 0.017003,
     "end_time": "2024-07-26T09:31:06.470790",
     "exception": false,
     "start_time": "2024-07-26T09:31:06.453787",
     "status": "completed"
    },
    "tags": []
   },
   "source": [
    "**Question:** What is the interpretation of the Tukey HSD test?\n",
    "\n",
    "High vs Low: Reject the null hypothesis( i.e. the mean of sales of high TV budget and Low TV budget is same). No, they are not same, they are different.\n",
    "\n",
    "Same goes with High to Medium ,and\n",
    "Low to Medium"
   ]
  },
  {
   "cell_type": "markdown",
   "id": "babd8b6f",
   "metadata": {
    "id": "f1bd994c-52ca-49ac-ba00-51bc36d07842",
    "papermill": {
     "duration": 0.0168,
     "end_time": "2024-07-26T09:31:06.504895",
     "exception": false,
     "start_time": "2024-07-26T09:31:06.488095",
     "status": "completed"
    },
    "tags": []
   },
   "source": [
    "**Question:** What did the post hoc tell ?"
   ]
  },
  {
   "cell_type": "markdown",
   "id": "a3ede9b5",
   "metadata": {
    "id": "a2e3d415-24b7-415f-8230-391edf3d0303",
    "papermill": {
     "duration": 0.016898,
     "end_time": "2024-07-26T09:31:06.539089",
     "exception": false,
     "start_time": "2024-07-26T09:31:06.522191",
     "status": "completed"
    },
    "tags": []
   },
   "source": [
    "The post hoc test was conducted to determine which TV groups are differnt and how many are different. \n",
    "\n",
    "It provides more zoom in details than ANOVA results, which can atmost tell if atleast one group mean is different.\n",
    "\n",
    "If we run too many tests , we can increase the chance of making the mistake of saying that mean of *these two groups is different*, but in actuality, *they are not*.... Type1 error....\n",
    "\n",
    "Thus, tukey controls this problem. Tukey calculates, HSD critical value and on basis of this, annoounces which two groups have different means ."
   ]
  }
 ],
 "metadata": {
  "colab": {
   "collapsed_sections": [],
   "provenance": []
  },
  "kaggle": {
   "accelerator": "none",
   "dataSources": [
    {
     "datasetId": 3851015,
     "sourceId": 6674790,
     "sourceType": "datasetVersion"
    }
   ],
   "dockerImageVersionId": 30746,
   "isGpuEnabled": false,
   "isInternetEnabled": true,
   "language": "python",
   "sourceType": "notebook"
  },
  "kernelspec": {
   "display_name": "Python 3",
   "language": "python",
   "name": "python3"
  },
  "language_info": {
   "codemirror_mode": {
    "name": "ipython",
    "version": 3
   },
   "file_extension": ".py",
   "mimetype": "text/x-python",
   "name": "python",
   "nbconvert_exporter": "python",
   "pygments_lexer": "ipython3",
   "version": "3.10.13"
  },
  "papermill": {
   "default_parameters": {},
   "duration": 12.401023,
   "end_time": "2024-07-26T09:31:07.279267",
   "environment_variables": {},
   "exception": null,
   "input_path": "__notebook__.ipynb",
   "output_path": "__notebook__.ipynb",
   "parameters": {},
   "start_time": "2024-07-26T09:30:54.878244",
   "version": "2.5.0"
  }
 },
 "nbformat": 4,
 "nbformat_minor": 5
}
